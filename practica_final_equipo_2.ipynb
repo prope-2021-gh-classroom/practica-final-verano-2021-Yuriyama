{
 "cells": [
  {
   "cell_type": "markdown",
   "metadata": {},
   "source": [
    "# Álgebra Lineal en Criptografía\n",
    "## Proyecto Final\n",
    "\n",
    "### Carlos Chavarría\n",
    "### Yuriko Yamamoto"
   ]
  },
  {
   "cell_type": "markdown",
   "metadata": {},
   "source": [
    "La criptografía es el estudio de la codificación y decodificación de mensajes. En el lenguaje de la criptografía, los códigos se denominan cifrados, los mensajes no codificados se denominan texto plano y los mensajes codificados se denominan texto cifrado.\n",
    "\n",
    "La criptografía es importante en el ámbito de computadoras donde se utilizó principalmente para la seguridad de contraseñas. Actualmente su importancia se debe al flujo de información confidencial en Internet.\n",
    "\n",
    "La idea detrás de cifrar un mensaje es hacerlo inútil para todos, excepto para la parte que tiene la \"clave\" de descifrado.\n",
    "\n",
    "\n",
    "**Cifrado Hill**\n",
    "\n",
    "Inventado por Lester S. Hill en 1929. Fue el primer sistema criptográfico polialfabético que era práctico para trabajar con mas de tres símbolos simultáneamente. Este sistema es polialfabético ya que puede darse el caso que un mismo caracter en un mensaje se encripte en dos caracteres distintos en el mensaje encriptado.\n",
    "\n",
    "Se trabaja con un alfabeto de 26 letras (A=0, B=1, ... , Z=25).\n",
    "\n",
    "Todas las operaciones aritméticas se realizan en la forma módulo 26, es decir que 26=0, 27=1, 28=2 etc."
   ]
  },
  {
   "cell_type": "code",
   "execution_count": 108,
   "metadata": {},
   "outputs": [],
   "source": [
    "import numpy as np\n",
    "import matplotlib\n",
    "from egcd import egcd"
   ]
  },
  {
   "cell_type": "markdown",
   "metadata": {},
   "source": [
    "Generamos el texto cifrado a partir del texto plano con la clave dado:\n",
    "$$C = (K*M)(mod A)$$\n",
    "\n",
    "donde \n",
    "\n",
    "- C es el mensaje cifrado, \n",
    "- K es la matriz clave, \n",
    "- A es el alfabeto y \n",
    "- M el mensaje original"
   ]
  },
  {
   "cell_type": "markdown",
   "metadata": {},
   "source": [
    "**Algoritmo de encriptación**\n",
    "\n",
    "1. Se divide el mensaje en bloque de longitud N\n",
    "2. Se forma la matriz $K_{NxN}$\n",
    "3. Se calcula C en bloques de N con la ecuación anterior.\n",
    "4. Se regresa C."
   ]
  },
  {
   "cell_type": "markdown",
   "metadata": {},
   "source": [
    "Generamos el texto original a partir del cifrado con la clave dado:\n",
    "$$M = (K^{-1}*C)(mod A)$$\n",
    "\n",
    "donde \n",
    "\n",
    "C es el mensaje cifrado, \n",
    "K es la matriz clave, \n",
    "A es el alfabeto y \n",
    "M el mensaje original"
   ]
  },
  {
   "cell_type": "markdown",
   "metadata": {},
   "source": [
    "**Algoritmo de desencriptación**\n",
    "\n",
    "1. Se calcula $K^{-1}$\n",
    "2. Se calcula M en bloques de N con la ecuación anterior.\n",
    "3. Se regresa M."
   ]
  },
  {
   "cell_type": "markdown",
   "metadata": {},
   "source": [
    "$$K^{-1} = \\frac{T_{adj(K)}*(|A| + 1)}{det(K)}mod A$$"
   ]
  },
  {
   "cell_type": "code",
   "execution_count": 92,
   "metadata": {},
   "outputs": [],
   "source": [
    "alfabeto = \"abcdefghijklmnopqrstuvwxyz\""
   ]
  },
  {
   "cell_type": "code",
   "execution_count": 37,
   "metadata": {},
   "outputs": [],
   "source": [
    "?zip"
   ]
  },
  {
   "cell_type": "code",
   "execution_count": 93,
   "metadata": {},
   "outputs": [],
   "source": [
    "letra_num = dict(zip(alfabeto, range(len(alfabeto))))"
   ]
  },
  {
   "cell_type": "code",
   "execution_count": 94,
   "metadata": {},
   "outputs": [],
   "source": [
    "num_letra = dict(zip(range(len(alfabeto)), alfabeto))"
   ]
  },
  {
   "cell_type": "code",
   "execution_count": 109,
   "metadata": {},
   "outputs": [],
   "source": [
    "def matriz_mod_inv(matriz, modulus):\n",
    "    det = int(np.round(np.linalg.det(matriz)))  \n",
    "    det_inv = egcd(det, modulus)[1] % modulus  \n",
    "    matriz_modulus_inv = (\n",
    "        det_inv * np.round(det * np.linalg.inv(matriz)).astype(int) % modulus\n",
    "    ) \n",
    "\n",
    "    return matriz_modulus_inv"
   ]
  },
  {
   "cell_type": "code",
   "execution_count": 100,
   "metadata": {},
   "outputs": [],
   "source": [
    "def encriptar(M, K):\n",
    "    encriptar = \"\"\n",
    "    mensaje_numeros = []\n",
    "    \n",
    "    for char in M:\n",
    "        mensaje_numeros.append(diccionario_num[char]) #se convierte msj a números\n",
    "        \n",
    "    bloque = [\n",
    "        mensaje_numeros[i : i + int(K.shape[0])] \n",
    "        for i in range(0, len(mensaje_numeros), int(K.shape[0]))\n",
    "    ] #se divide en bloques\n",
    "    \n",
    "    for N in bloque: #Se encripta cada bloque\n",
    "        N = np.transpose(np.asarray(N))[:, np.newaxis]\n",
    "        \n",
    "        while N.shape[0] != K.shape[0]:\n",
    "            N = np.append(N, letra_num[\" \"])[:, np.newaxis]\n",
    "        \n",
    "        numeros = np.dot(K, N) % len(alfabeto)\n",
    "        m = numeros.shape[0]\n",
    "        \n",
    "        for idx in range(m):\n",
    "            numero = int(numeros[idx, 0])\n",
    "            encriptar += num_letra[numero]\n",
    "    return encriptar\n",
    "    "
   ]
  },
  {
   "cell_type": "code",
   "execution_count": 114,
   "metadata": {},
   "outputs": [],
   "source": [
    "def desencriptar(C, K_inv):\n",
    "    \n",
    "    desencriptado = \"\"\n",
    "    cifrado_numeros = []\n",
    "\n",
    "    for char in C:\n",
    "        cifrado_numeros.append(letra_num[char])\n",
    "\n",
    "    bloque = [\n",
    "        cifrado_numeros[i : i + int(K_inv.shape[0])]\n",
    "        for i in range(0, len(cifrado_numeros), int(K_inv.shape[0]))\n",
    "    ]\n",
    "\n",
    "    for N in bloque:\n",
    "        N = np.transpose(np.asarray(N))[:, np.newaxis]\n",
    "        numeros = np.dot(K_inv, N) % len(alfabeto)\n",
    "        m = numeros.shape[0]\n",
    "\n",
    "        for idx in range(m):\n",
    "            numero = int(numeros[idx, 0])\n",
    "            desencriptado += num_letra[numero]\n",
    "\n",
    "    return desencriptado\n",
    "\n",
    "\n"
   ]
  },
  {
   "cell_type": "code",
   "execution_count": 101,
   "metadata": {},
   "outputs": [],
   "source": [
    "K = np.array([[3,3],[2,5]])"
   ]
  },
  {
   "cell_type": "code",
   "execution_count": 102,
   "metadata": {},
   "outputs": [],
   "source": [
    "M = 'help'"
   ]
  },
  {
   "cell_type": "code",
   "execution_count": 103,
   "metadata": {},
   "outputs": [],
   "source": [
    "msj_encriptado = encriptar(M, K)"
   ]
  },
  {
   "cell_type": "code",
   "execution_count": 105,
   "metadata": {},
   "outputs": [
    {
     "name": "stdout",
     "output_type": "stream",
     "text": [
      "hiat\n"
     ]
    }
   ],
   "source": [
    "print(msj_encriptado)"
   ]
  },
  {
   "cell_type": "code",
   "execution_count": 110,
   "metadata": {},
   "outputs": [],
   "source": [
    "K_inv = matriz_mod_inv(K, len(alfabeto))"
   ]
  },
  {
   "cell_type": "code",
   "execution_count": 115,
   "metadata": {},
   "outputs": [],
   "source": [
    "msj_desencriptado = desencriptar(msj_encriptado, K_inv)"
   ]
  },
  {
   "cell_type": "code",
   "execution_count": 116,
   "metadata": {},
   "outputs": [
    {
     "name": "stdout",
     "output_type": "stream",
     "text": [
      "help\n"
     ]
    }
   ],
   "source": [
    "print(msj_desencriptado)"
   ]
  },
  {
   "cell_type": "code",
   "execution_count": 117,
   "metadata": {},
   "outputs": [
    {
     "name": "stdout",
     "output_type": "stream",
     "text": [
      "Mensaje original:help\n",
      "Mensaje encriptado:hiat\n",
      "Mensaje desencriptado:help\n"
     ]
    }
   ],
   "source": [
    "print('Mensaje original:' + M)\n",
    "print('Mensaje encriptado:' + msj_encriptado)\n",
    "print('Mensaje desencriptado:' + msj_desencriptado)"
   ]
  },
  {
   "cell_type": "markdown",
   "metadata": {},
   "source": [
    "REFERENCIAS\n",
    "\n",
    "- [Cryptography by Means of Linear Algebra\n",
    "and Number Theory](http://i-rep.emu.edu.tr:8080/xmlui/bitstream/handle/11129/1420/ElfadelAjaeb.pdf?sequence=1#page20)\n",
    "- [Criptography. Hill Cypher](https://www.youtube.com/watch?v=xUEqlzqxSMQ&ab_channel=AladdinPersson)"
   ]
  }
 ],
 "metadata": {
  "kernelspec": {
   "display_name": "Python 3",
   "language": "python",
   "name": "python3"
  },
  "language_info": {
   "codemirror_mode": {
    "name": "ipython",
    "version": 3
   },
   "file_extension": ".py",
   "mimetype": "text/x-python",
   "name": "python",
   "nbconvert_exporter": "python",
   "pygments_lexer": "ipython3",
   "version": "3.7.3"
  }
 },
 "nbformat": 4,
 "nbformat_minor": 2
}
